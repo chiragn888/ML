{
 "cells": [
  {
   "cell_type": "code",
   "execution_count": 1,
   "id": "f30d41af",
   "metadata": {
    "_cell_guid": "b1076dfc-b9ad-4769-8c92-a6c4dae69d19",
    "_uuid": "8f2839f25d086af736a60e9eeb907d3b93b6e0e5",
    "execution": {
     "iopub.execute_input": "2022-02-04T15:14:14.873031Z",
     "iopub.status.busy": "2022-02-04T15:14:14.871788Z",
     "iopub.status.idle": "2022-02-04T15:14:14.887712Z",
     "shell.execute_reply": "2022-02-04T15:14:14.888236Z",
     "shell.execute_reply.started": "2022-02-04T15:12:28.248251Z"
    },
    "papermill": {
     "duration": 0.040531,
     "end_time": "2022-02-04T15:14:14.888547",
     "exception": false,
     "start_time": "2022-02-04T15:14:14.848016",
     "status": "completed"
    },
    "tags": []
   },
   "outputs": [
    {
     "name": "stdout",
     "output_type": "stream",
     "text": [
      "/kaggle/input/titanic/train.csv\n",
      "/kaggle/input/titanic/test.csv\n",
      "/kaggle/input/titanic/gender_submission.csv\n"
     ]
    }
   ],
   "source": [
    "# This Python 3 environment comes with many helpful analytics libraries installed\n",
    "# It is defined by the kaggle/python Docker image: https://github.com/kaggle/docker-python\n",
    "# For example, here's several helpful packages to load\n",
    "\n",
    "import numpy as np # linear algebra\n",
    "import pandas as pd # data processing, CSV file I/O (e.g. pd.read_csv)\n",
    "\n",
    "# Input data files are available in the read-only \"../input/\" directory\n",
    "# For example, running this (by clicking run or pressing Shift+Enter) will list all files under the input directory\n",
    "\n",
    "import os\n",
    "for dirname, _, filenames in os.walk('/kaggle/input'):\n",
    "    for filename in filenames:\n",
    "        print(os.path.join(dirname, filename))\n",
    "\n",
    "# You can write up to 20GB to the current directory (/kaggle/working/) that gets preserved as output when you create a version using \"Save & Run All\" \n",
    "# You can also write temporary files to /kaggle/temp/, but they won't be saved outside of the current session"
   ]
  },
  {
   "cell_type": "code",
   "execution_count": 2,
   "id": "1a1f55ca",
   "metadata": {
    "execution": {
     "iopub.execute_input": "2022-02-04T15:14:14.932092Z",
     "iopub.status.busy": "2022-02-04T15:14:14.931345Z",
     "iopub.status.idle": "2022-02-04T15:14:14.962822Z",
     "shell.execute_reply": "2022-02-04T15:14:14.962195Z",
     "shell.execute_reply.started": "2022-02-04T15:12:28.263107Z"
    },
    "papermill": {
     "duration": 0.054883,
     "end_time": "2022-02-04T15:14:14.962973",
     "exception": false,
     "start_time": "2022-02-04T15:14:14.908090",
     "status": "completed"
    },
    "tags": []
   },
   "outputs": [],
   "source": [
    "data=pd.read_csv('../input/titanic/train.csv')\n",
    "suv=data['Survived']"
   ]
  },
  {
   "cell_type": "code",
   "execution_count": 3,
   "id": "d8f38321",
   "metadata": {
    "execution": {
     "iopub.execute_input": "2022-02-04T15:14:15.004266Z",
     "iopub.status.busy": "2022-02-04T15:14:15.003547Z",
     "iopub.status.idle": "2022-02-04T15:14:15.011313Z",
     "shell.execute_reply": "2022-02-04T15:14:15.011961Z",
     "shell.execute_reply.started": "2022-02-04T15:12:28.280450Z"
    },
    "papermill": {
     "duration": 0.030237,
     "end_time": "2022-02-04T15:14:15.012161",
     "exception": false,
     "start_time": "2022-02-04T15:14:14.981924",
     "status": "completed"
    },
    "tags": []
   },
   "outputs": [
    {
     "data": {
      "text/plain": [
       "(891, 12)"
      ]
     },
     "execution_count": 3,
     "metadata": {},
     "output_type": "execute_result"
    }
   ],
   "source": [
    "data.shape"
   ]
  },
  {
   "cell_type": "code",
   "execution_count": 4,
   "id": "502a096d",
   "metadata": {
    "execution": {
     "iopub.execute_input": "2022-02-04T15:14:15.063620Z",
     "iopub.status.busy": "2022-02-04T15:14:15.062859Z",
     "iopub.status.idle": "2022-02-04T15:14:15.099871Z",
     "shell.execute_reply": "2022-02-04T15:14:15.099210Z",
     "shell.execute_reply.started": "2022-02-04T15:12:28.290920Z"
    },
    "papermill": {
     "duration": 0.068595,
     "end_time": "2022-02-04T15:14:15.100023",
     "exception": false,
     "start_time": "2022-02-04T15:14:15.031428",
     "status": "completed"
    },
    "tags": []
   },
   "outputs": [
    {
     "name": "stderr",
     "output_type": "stream",
     "text": [
      "/opt/conda/lib/python3.7/site-packages/ipykernel_launcher.py:1: SettingWithCopyWarning: \n",
      "A value is trying to be set on a copy of a slice from a DataFrame\n",
      "\n",
      "See the caveats in the documentation: https://pandas.pydata.org/pandas-docs/stable/user_guide/indexing.html#returning-a-view-versus-a-copy\n",
      "  \"\"\"Entry point for launching an IPython kernel.\n",
      "/opt/conda/lib/python3.7/site-packages/ipykernel_launcher.py:2: SettingWithCopyWarning: \n",
      "A value is trying to be set on a copy of a slice from a DataFrame\n",
      "\n",
      "See the caveats in the documentation: https://pandas.pydata.org/pandas-docs/stable/user_guide/indexing.html#returning-a-view-versus-a-copy\n",
      "  \n"
     ]
    },
    {
     "data": {
      "text/html": [
       "<div>\n",
       "<style scoped>\n",
       "    .dataframe tbody tr th:only-of-type {\n",
       "        vertical-align: middle;\n",
       "    }\n",
       "\n",
       "    .dataframe tbody tr th {\n",
       "        vertical-align: top;\n",
       "    }\n",
       "\n",
       "    .dataframe thead th {\n",
       "        text-align: right;\n",
       "    }\n",
       "</style>\n",
       "<table border=\"1\" class=\"dataframe\">\n",
       "  <thead>\n",
       "    <tr style=\"text-align: right;\">\n",
       "      <th></th>\n",
       "      <th>PassengerId</th>\n",
       "      <th>Survived</th>\n",
       "      <th>Pclass</th>\n",
       "      <th>Name</th>\n",
       "      <th>Sex</th>\n",
       "      <th>Age</th>\n",
       "      <th>SibSp</th>\n",
       "      <th>Parch</th>\n",
       "      <th>Ticket</th>\n",
       "      <th>Fare</th>\n",
       "      <th>Cabin</th>\n",
       "      <th>Embarked</th>\n",
       "    </tr>\n",
       "  </thead>\n",
       "  <tbody>\n",
       "    <tr>\n",
       "      <th>0</th>\n",
       "      <td>1</td>\n",
       "      <td>0</td>\n",
       "      <td>3</td>\n",
       "      <td>Braund, Mr. Owen Harris</td>\n",
       "      <td>1</td>\n",
       "      <td>22.0</td>\n",
       "      <td>1</td>\n",
       "      <td>0</td>\n",
       "      <td>A/5 21171</td>\n",
       "      <td>7.2500</td>\n",
       "      <td>NaN</td>\n",
       "      <td>S</td>\n",
       "    </tr>\n",
       "    <tr>\n",
       "      <th>1</th>\n",
       "      <td>2</td>\n",
       "      <td>1</td>\n",
       "      <td>1</td>\n",
       "      <td>Cumings, Mrs. John Bradley (Florence Briggs Th...</td>\n",
       "      <td>0</td>\n",
       "      <td>38.0</td>\n",
       "      <td>1</td>\n",
       "      <td>0</td>\n",
       "      <td>PC 17599</td>\n",
       "      <td>71.2833</td>\n",
       "      <td>C85</td>\n",
       "      <td>C</td>\n",
       "    </tr>\n",
       "    <tr>\n",
       "      <th>2</th>\n",
       "      <td>3</td>\n",
       "      <td>1</td>\n",
       "      <td>3</td>\n",
       "      <td>Heikkinen, Miss. Laina</td>\n",
       "      <td>0</td>\n",
       "      <td>26.0</td>\n",
       "      <td>0</td>\n",
       "      <td>0</td>\n",
       "      <td>STON/O2. 3101282</td>\n",
       "      <td>7.9250</td>\n",
       "      <td>NaN</td>\n",
       "      <td>S</td>\n",
       "    </tr>\n",
       "    <tr>\n",
       "      <th>3</th>\n",
       "      <td>4</td>\n",
       "      <td>1</td>\n",
       "      <td>1</td>\n",
       "      <td>Futrelle, Mrs. Jacques Heath (Lily May Peel)</td>\n",
       "      <td>0</td>\n",
       "      <td>35.0</td>\n",
       "      <td>1</td>\n",
       "      <td>0</td>\n",
       "      <td>113803</td>\n",
       "      <td>53.1000</td>\n",
       "      <td>C123</td>\n",
       "      <td>S</td>\n",
       "    </tr>\n",
       "    <tr>\n",
       "      <th>4</th>\n",
       "      <td>5</td>\n",
       "      <td>0</td>\n",
       "      <td>3</td>\n",
       "      <td>Allen, Mr. William Henry</td>\n",
       "      <td>1</td>\n",
       "      <td>35.0</td>\n",
       "      <td>0</td>\n",
       "      <td>0</td>\n",
       "      <td>373450</td>\n",
       "      <td>8.0500</td>\n",
       "      <td>NaN</td>\n",
       "      <td>S</td>\n",
       "    </tr>\n",
       "    <tr>\n",
       "      <th>...</th>\n",
       "      <td>...</td>\n",
       "      <td>...</td>\n",
       "      <td>...</td>\n",
       "      <td>...</td>\n",
       "      <td>...</td>\n",
       "      <td>...</td>\n",
       "      <td>...</td>\n",
       "      <td>...</td>\n",
       "      <td>...</td>\n",
       "      <td>...</td>\n",
       "      <td>...</td>\n",
       "      <td>...</td>\n",
       "    </tr>\n",
       "    <tr>\n",
       "      <th>886</th>\n",
       "      <td>887</td>\n",
       "      <td>0</td>\n",
       "      <td>2</td>\n",
       "      <td>Montvila, Rev. Juozas</td>\n",
       "      <td>1</td>\n",
       "      <td>27.0</td>\n",
       "      <td>0</td>\n",
       "      <td>0</td>\n",
       "      <td>211536</td>\n",
       "      <td>13.0000</td>\n",
       "      <td>NaN</td>\n",
       "      <td>S</td>\n",
       "    </tr>\n",
       "    <tr>\n",
       "      <th>887</th>\n",
       "      <td>888</td>\n",
       "      <td>1</td>\n",
       "      <td>1</td>\n",
       "      <td>Graham, Miss. Margaret Edith</td>\n",
       "      <td>0</td>\n",
       "      <td>19.0</td>\n",
       "      <td>0</td>\n",
       "      <td>0</td>\n",
       "      <td>112053</td>\n",
       "      <td>30.0000</td>\n",
       "      <td>B42</td>\n",
       "      <td>S</td>\n",
       "    </tr>\n",
       "    <tr>\n",
       "      <th>888</th>\n",
       "      <td>889</td>\n",
       "      <td>0</td>\n",
       "      <td>3</td>\n",
       "      <td>Johnston, Miss. Catherine Helen \"Carrie\"</td>\n",
       "      <td>0</td>\n",
       "      <td>NaN</td>\n",
       "      <td>1</td>\n",
       "      <td>2</td>\n",
       "      <td>W./C. 6607</td>\n",
       "      <td>23.4500</td>\n",
       "      <td>NaN</td>\n",
       "      <td>S</td>\n",
       "    </tr>\n",
       "    <tr>\n",
       "      <th>889</th>\n",
       "      <td>890</td>\n",
       "      <td>1</td>\n",
       "      <td>1</td>\n",
       "      <td>Behr, Mr. Karl Howell</td>\n",
       "      <td>1</td>\n",
       "      <td>26.0</td>\n",
       "      <td>0</td>\n",
       "      <td>0</td>\n",
       "      <td>111369</td>\n",
       "      <td>30.0000</td>\n",
       "      <td>C148</td>\n",
       "      <td>C</td>\n",
       "    </tr>\n",
       "    <tr>\n",
       "      <th>890</th>\n",
       "      <td>891</td>\n",
       "      <td>0</td>\n",
       "      <td>3</td>\n",
       "      <td>Dooley, Mr. Patrick</td>\n",
       "      <td>1</td>\n",
       "      <td>32.0</td>\n",
       "      <td>0</td>\n",
       "      <td>0</td>\n",
       "      <td>370376</td>\n",
       "      <td>7.7500</td>\n",
       "      <td>NaN</td>\n",
       "      <td>Q</td>\n",
       "    </tr>\n",
       "  </tbody>\n",
       "</table>\n",
       "<p>891 rows × 12 columns</p>\n",
       "</div>"
      ],
      "text/plain": [
       "     PassengerId  Survived  Pclass  \\\n",
       "0              1         0       3   \n",
       "1              2         1       1   \n",
       "2              3         1       3   \n",
       "3              4         1       1   \n",
       "4              5         0       3   \n",
       "..           ...       ...     ...   \n",
       "886          887         0       2   \n",
       "887          888         1       1   \n",
       "888          889         0       3   \n",
       "889          890         1       1   \n",
       "890          891         0       3   \n",
       "\n",
       "                                                  Name Sex   Age  SibSp  \\\n",
       "0                              Braund, Mr. Owen Harris   1  22.0      1   \n",
       "1    Cumings, Mrs. John Bradley (Florence Briggs Th...   0  38.0      1   \n",
       "2                               Heikkinen, Miss. Laina   0  26.0      0   \n",
       "3         Futrelle, Mrs. Jacques Heath (Lily May Peel)   0  35.0      1   \n",
       "4                             Allen, Mr. William Henry   1  35.0      0   \n",
       "..                                                 ...  ..   ...    ...   \n",
       "886                              Montvila, Rev. Juozas   1  27.0      0   \n",
       "887                       Graham, Miss. Margaret Edith   0  19.0      0   \n",
       "888           Johnston, Miss. Catherine Helen \"Carrie\"   0   NaN      1   \n",
       "889                              Behr, Mr. Karl Howell   1  26.0      0   \n",
       "890                                Dooley, Mr. Patrick   1  32.0      0   \n",
       "\n",
       "     Parch            Ticket     Fare Cabin Embarked  \n",
       "0        0         A/5 21171   7.2500   NaN        S  \n",
       "1        0          PC 17599  71.2833   C85        C  \n",
       "2        0  STON/O2. 3101282   7.9250   NaN        S  \n",
       "3        0            113803  53.1000  C123        S  \n",
       "4        0            373450   8.0500   NaN        S  \n",
       "..     ...               ...      ...   ...      ...  \n",
       "886      0            211536  13.0000   NaN        S  \n",
       "887      0            112053  30.0000   B42        S  \n",
       "888      2        W./C. 6607  23.4500   NaN        S  \n",
       "889      0            111369  30.0000  C148        C  \n",
       "890      0            370376   7.7500   NaN        Q  \n",
       "\n",
       "[891 rows x 12 columns]"
      ]
     },
     "execution_count": 4,
     "metadata": {},
     "output_type": "execute_result"
    }
   ],
   "source": [
    "data.Sex[data.Sex == 'male'] = 1\n",
    "data.Sex[data.Sex == 'female'] = 0\n",
    "data"
   ]
  },
  {
   "cell_type": "code",
   "execution_count": 5,
   "id": "b49f81ff",
   "metadata": {
    "execution": {
     "iopub.execute_input": "2022-02-04T15:14:15.146633Z",
     "iopub.status.busy": "2022-02-04T15:14:15.145782Z",
     "iopub.status.idle": "2022-02-04T15:14:15.149320Z",
     "shell.execute_reply": "2022-02-04T15:14:15.149774Z",
     "shell.execute_reply.started": "2022-02-04T15:12:28.332836Z"
    },
    "papermill": {
     "duration": 0.030063,
     "end_time": "2022-02-04T15:14:15.149957",
     "exception": false,
     "start_time": "2022-02-04T15:14:15.119894",
     "status": "completed"
    },
    "tags": []
   },
   "outputs": [
    {
     "data": {
      "text/plain": [
       "29.69911764705882"
      ]
     },
     "execution_count": 5,
     "metadata": {},
     "output_type": "execute_result"
    }
   ],
   "source": [
    "m=np.mean(data['Age'])\n",
    "m"
   ]
  },
  {
   "cell_type": "code",
   "execution_count": 6,
   "id": "8f348f84",
   "metadata": {
    "execution": {
     "iopub.execute_input": "2022-02-04T15:14:15.196734Z",
     "iopub.status.busy": "2022-02-04T15:14:15.195987Z",
     "iopub.status.idle": "2022-02-04T15:14:15.199275Z",
     "shell.execute_reply": "2022-02-04T15:14:15.198672Z",
     "shell.execute_reply.started": "2022-02-04T15:12:28.342477Z"
    },
    "papermill": {
     "duration": 0.029452,
     "end_time": "2022-02-04T15:14:15.199425",
     "exception": false,
     "start_time": "2022-02-04T15:14:15.169973",
     "status": "completed"
    },
    "tags": []
   },
   "outputs": [],
   "source": [
    "data.Age=data['Age'].fillna(m)"
   ]
  },
  {
   "cell_type": "code",
   "execution_count": 7,
   "id": "b5748fc9",
   "metadata": {
    "execution": {
     "iopub.execute_input": "2022-02-04T15:14:15.257758Z",
     "iopub.status.busy": "2022-02-04T15:14:15.256753Z",
     "iopub.status.idle": "2022-02-04T15:14:15.261145Z",
     "shell.execute_reply": "2022-02-04T15:14:15.260618Z",
     "shell.execute_reply.started": "2022-02-04T15:12:28.356375Z"
    },
    "papermill": {
     "duration": 0.04167,
     "end_time": "2022-02-04T15:14:15.261298",
     "exception": false,
     "start_time": "2022-02-04T15:14:15.219628",
     "status": "completed"
    },
    "tags": []
   },
   "outputs": [
    {
     "data": {
      "text/html": [
       "<div>\n",
       "<style scoped>\n",
       "    .dataframe tbody tr th:only-of-type {\n",
       "        vertical-align: middle;\n",
       "    }\n",
       "\n",
       "    .dataframe tbody tr th {\n",
       "        vertical-align: top;\n",
       "    }\n",
       "\n",
       "    .dataframe thead th {\n",
       "        text-align: right;\n",
       "    }\n",
       "</style>\n",
       "<table border=\"1\" class=\"dataframe\">\n",
       "  <thead>\n",
       "    <tr style=\"text-align: right;\">\n",
       "      <th></th>\n",
       "      <th>PassengerId</th>\n",
       "      <th>Survived</th>\n",
       "      <th>Pclass</th>\n",
       "      <th>Name</th>\n",
       "      <th>Sex</th>\n",
       "      <th>Age</th>\n",
       "      <th>SibSp</th>\n",
       "      <th>Parch</th>\n",
       "      <th>Ticket</th>\n",
       "      <th>Fare</th>\n",
       "      <th>Cabin</th>\n",
       "      <th>Embarked</th>\n",
       "    </tr>\n",
       "  </thead>\n",
       "  <tbody>\n",
       "    <tr>\n",
       "      <th>0</th>\n",
       "      <td>1</td>\n",
       "      <td>0</td>\n",
       "      <td>3</td>\n",
       "      <td>Braund, Mr. Owen Harris</td>\n",
       "      <td>1</td>\n",
       "      <td>22.0</td>\n",
       "      <td>1</td>\n",
       "      <td>0</td>\n",
       "      <td>A/5 21171</td>\n",
       "      <td>7.2500</td>\n",
       "      <td>NaN</td>\n",
       "      <td>S</td>\n",
       "    </tr>\n",
       "    <tr>\n",
       "      <th>1</th>\n",
       "      <td>2</td>\n",
       "      <td>1</td>\n",
       "      <td>1</td>\n",
       "      <td>Cumings, Mrs. John Bradley (Florence Briggs Th...</td>\n",
       "      <td>0</td>\n",
       "      <td>38.0</td>\n",
       "      <td>1</td>\n",
       "      <td>0</td>\n",
       "      <td>PC 17599</td>\n",
       "      <td>71.2833</td>\n",
       "      <td>C85</td>\n",
       "      <td>C</td>\n",
       "    </tr>\n",
       "    <tr>\n",
       "      <th>2</th>\n",
       "      <td>3</td>\n",
       "      <td>1</td>\n",
       "      <td>3</td>\n",
       "      <td>Heikkinen, Miss. Laina</td>\n",
       "      <td>0</td>\n",
       "      <td>26.0</td>\n",
       "      <td>0</td>\n",
       "      <td>0</td>\n",
       "      <td>STON/O2. 3101282</td>\n",
       "      <td>7.9250</td>\n",
       "      <td>NaN</td>\n",
       "      <td>S</td>\n",
       "    </tr>\n",
       "    <tr>\n",
       "      <th>3</th>\n",
       "      <td>4</td>\n",
       "      <td>1</td>\n",
       "      <td>1</td>\n",
       "      <td>Futrelle, Mrs. Jacques Heath (Lily May Peel)</td>\n",
       "      <td>0</td>\n",
       "      <td>35.0</td>\n",
       "      <td>1</td>\n",
       "      <td>0</td>\n",
       "      <td>113803</td>\n",
       "      <td>53.1000</td>\n",
       "      <td>C123</td>\n",
       "      <td>S</td>\n",
       "    </tr>\n",
       "    <tr>\n",
       "      <th>4</th>\n",
       "      <td>5</td>\n",
       "      <td>0</td>\n",
       "      <td>3</td>\n",
       "      <td>Allen, Mr. William Henry</td>\n",
       "      <td>1</td>\n",
       "      <td>35.0</td>\n",
       "      <td>0</td>\n",
       "      <td>0</td>\n",
       "      <td>373450</td>\n",
       "      <td>8.0500</td>\n",
       "      <td>NaN</td>\n",
       "      <td>S</td>\n",
       "    </tr>\n",
       "  </tbody>\n",
       "</table>\n",
       "</div>"
      ],
      "text/plain": [
       "   PassengerId  Survived  Pclass  \\\n",
       "0            1         0       3   \n",
       "1            2         1       1   \n",
       "2            3         1       3   \n",
       "3            4         1       1   \n",
       "4            5         0       3   \n",
       "\n",
       "                                                Name Sex   Age  SibSp  Parch  \\\n",
       "0                            Braund, Mr. Owen Harris   1  22.0      1      0   \n",
       "1  Cumings, Mrs. John Bradley (Florence Briggs Th...   0  38.0      1      0   \n",
       "2                             Heikkinen, Miss. Laina   0  26.0      0      0   \n",
       "3       Futrelle, Mrs. Jacques Heath (Lily May Peel)   0  35.0      1      0   \n",
       "4                           Allen, Mr. William Henry   1  35.0      0      0   \n",
       "\n",
       "             Ticket     Fare Cabin Embarked  \n",
       "0         A/5 21171   7.2500   NaN        S  \n",
       "1          PC 17599  71.2833   C85        C  \n",
       "2  STON/O2. 3101282   7.9250   NaN        S  \n",
       "3            113803  53.1000  C123        S  \n",
       "4            373450   8.0500   NaN        S  "
      ]
     },
     "execution_count": 7,
     "metadata": {},
     "output_type": "execute_result"
    }
   ],
   "source": [
    "data.head()"
   ]
  },
  {
   "cell_type": "code",
   "execution_count": 8,
   "id": "30efd856",
   "metadata": {
    "execution": {
     "iopub.execute_input": "2022-02-04T15:14:15.311282Z",
     "iopub.status.busy": "2022-02-04T15:14:15.310559Z",
     "iopub.status.idle": "2022-02-04T15:14:15.313030Z",
     "shell.execute_reply": "2022-02-04T15:14:15.312373Z",
     "shell.execute_reply.started": "2022-02-04T15:12:28.382281Z"
    },
    "papermill": {
     "duration": 0.031488,
     "end_time": "2022-02-04T15:14:15.313191",
     "exception": false,
     "start_time": "2022-02-04T15:14:15.281703",
     "status": "completed"
    },
    "tags": []
   },
   "outputs": [],
   "source": [
    "data=data.drop(['Survived','SibSp','Parch','Cabin','Embarked','Ticket','Name'], axis='columns')"
   ]
  },
  {
   "cell_type": "code",
   "execution_count": 9,
   "id": "cceeee74",
   "metadata": {
    "execution": {
     "iopub.execute_input": "2022-02-04T15:14:15.363633Z",
     "iopub.status.busy": "2022-02-04T15:14:15.362727Z",
     "iopub.status.idle": "2022-02-04T15:14:15.367665Z",
     "shell.execute_reply": "2022-02-04T15:14:15.367044Z",
     "shell.execute_reply.started": "2022-02-04T15:12:28.396094Z"
    },
    "papermill": {
     "duration": 0.033798,
     "end_time": "2022-02-04T15:14:15.367820",
     "exception": false,
     "start_time": "2022-02-04T15:14:15.334022",
     "status": "completed"
    },
    "tags": []
   },
   "outputs": [],
   "source": [
    "data.isnull().sum()\n",
    "data=data.dropna()"
   ]
  },
  {
   "cell_type": "code",
   "execution_count": 10,
   "id": "7dfaff9b",
   "metadata": {
    "execution": {
     "iopub.execute_input": "2022-02-04T15:14:15.413577Z",
     "iopub.status.busy": "2022-02-04T15:14:15.412864Z",
     "iopub.status.idle": "2022-02-04T15:14:15.420626Z",
     "shell.execute_reply": "2022-02-04T15:14:15.421178Z",
     "shell.execute_reply.started": "2022-02-04T15:12:28.413610Z"
    },
    "papermill": {
     "duration": 0.033179,
     "end_time": "2022-02-04T15:14:15.421355",
     "exception": false,
     "start_time": "2022-02-04T15:14:15.388176",
     "status": "completed"
    },
    "tags": []
   },
   "outputs": [
    {
     "data": {
      "text/plain": [
       "PassengerId    0\n",
       "Pclass         0\n",
       "Sex            0\n",
       "Age            0\n",
       "Fare           0\n",
       "dtype: int64"
      ]
     },
     "execution_count": 10,
     "metadata": {},
     "output_type": "execute_result"
    }
   ],
   "source": [
    "data.isnull().sum()"
   ]
  },
  {
   "cell_type": "code",
   "execution_count": 11,
   "id": "7d47aaac",
   "metadata": {
    "execution": {
     "iopub.execute_input": "2022-02-04T15:14:15.465742Z",
     "iopub.status.busy": "2022-02-04T15:14:15.465019Z",
     "iopub.status.idle": "2022-02-04T15:14:15.479009Z",
     "shell.execute_reply": "2022-02-04T15:14:15.479605Z",
     "shell.execute_reply.started": "2022-02-04T15:12:28.499101Z"
    },
    "papermill": {
     "duration": 0.037849,
     "end_time": "2022-02-04T15:14:15.479836",
     "exception": false,
     "start_time": "2022-02-04T15:14:15.441987",
     "status": "completed"
    },
    "tags": []
   },
   "outputs": [
    {
     "data": {
      "text/html": [
       "<div>\n",
       "<style scoped>\n",
       "    .dataframe tbody tr th:only-of-type {\n",
       "        vertical-align: middle;\n",
       "    }\n",
       "\n",
       "    .dataframe tbody tr th {\n",
       "        vertical-align: top;\n",
       "    }\n",
       "\n",
       "    .dataframe thead th {\n",
       "        text-align: right;\n",
       "    }\n",
       "</style>\n",
       "<table border=\"1\" class=\"dataframe\">\n",
       "  <thead>\n",
       "    <tr style=\"text-align: right;\">\n",
       "      <th></th>\n",
       "      <th>PassengerId</th>\n",
       "      <th>Pclass</th>\n",
       "      <th>Sex</th>\n",
       "      <th>Age</th>\n",
       "      <th>Fare</th>\n",
       "    </tr>\n",
       "  </thead>\n",
       "  <tbody>\n",
       "    <tr>\n",
       "      <th>0</th>\n",
       "      <td>1</td>\n",
       "      <td>3</td>\n",
       "      <td>1</td>\n",
       "      <td>22.000000</td>\n",
       "      <td>7.2500</td>\n",
       "    </tr>\n",
       "    <tr>\n",
       "      <th>1</th>\n",
       "      <td>2</td>\n",
       "      <td>1</td>\n",
       "      <td>0</td>\n",
       "      <td>38.000000</td>\n",
       "      <td>71.2833</td>\n",
       "    </tr>\n",
       "    <tr>\n",
       "      <th>2</th>\n",
       "      <td>3</td>\n",
       "      <td>3</td>\n",
       "      <td>0</td>\n",
       "      <td>26.000000</td>\n",
       "      <td>7.9250</td>\n",
       "    </tr>\n",
       "    <tr>\n",
       "      <th>3</th>\n",
       "      <td>4</td>\n",
       "      <td>1</td>\n",
       "      <td>0</td>\n",
       "      <td>35.000000</td>\n",
       "      <td>53.1000</td>\n",
       "    </tr>\n",
       "    <tr>\n",
       "      <th>4</th>\n",
       "      <td>5</td>\n",
       "      <td>3</td>\n",
       "      <td>1</td>\n",
       "      <td>35.000000</td>\n",
       "      <td>8.0500</td>\n",
       "    </tr>\n",
       "    <tr>\n",
       "      <th>...</th>\n",
       "      <td>...</td>\n",
       "      <td>...</td>\n",
       "      <td>...</td>\n",
       "      <td>...</td>\n",
       "      <td>...</td>\n",
       "    </tr>\n",
       "    <tr>\n",
       "      <th>886</th>\n",
       "      <td>887</td>\n",
       "      <td>2</td>\n",
       "      <td>1</td>\n",
       "      <td>27.000000</td>\n",
       "      <td>13.0000</td>\n",
       "    </tr>\n",
       "    <tr>\n",
       "      <th>887</th>\n",
       "      <td>888</td>\n",
       "      <td>1</td>\n",
       "      <td>0</td>\n",
       "      <td>19.000000</td>\n",
       "      <td>30.0000</td>\n",
       "    </tr>\n",
       "    <tr>\n",
       "      <th>888</th>\n",
       "      <td>889</td>\n",
       "      <td>3</td>\n",
       "      <td>0</td>\n",
       "      <td>29.699118</td>\n",
       "      <td>23.4500</td>\n",
       "    </tr>\n",
       "    <tr>\n",
       "      <th>889</th>\n",
       "      <td>890</td>\n",
       "      <td>1</td>\n",
       "      <td>1</td>\n",
       "      <td>26.000000</td>\n",
       "      <td>30.0000</td>\n",
       "    </tr>\n",
       "    <tr>\n",
       "      <th>890</th>\n",
       "      <td>891</td>\n",
       "      <td>3</td>\n",
       "      <td>1</td>\n",
       "      <td>32.000000</td>\n",
       "      <td>7.7500</td>\n",
       "    </tr>\n",
       "  </tbody>\n",
       "</table>\n",
       "<p>891 rows × 5 columns</p>\n",
       "</div>"
      ],
      "text/plain": [
       "     PassengerId  Pclass Sex        Age     Fare\n",
       "0              1       3   1  22.000000   7.2500\n",
       "1              2       1   0  38.000000  71.2833\n",
       "2              3       3   0  26.000000   7.9250\n",
       "3              4       1   0  35.000000  53.1000\n",
       "4              5       3   1  35.000000   8.0500\n",
       "..           ...     ...  ..        ...      ...\n",
       "886          887       2   1  27.000000  13.0000\n",
       "887          888       1   0  19.000000  30.0000\n",
       "888          889       3   0  29.699118  23.4500\n",
       "889          890       1   1  26.000000  30.0000\n",
       "890          891       3   1  32.000000   7.7500\n",
       "\n",
       "[891 rows x 5 columns]"
      ]
     },
     "execution_count": 11,
     "metadata": {},
     "output_type": "execute_result"
    }
   ],
   "source": [
    "data"
   ]
  },
  {
   "cell_type": "code",
   "execution_count": 12,
   "id": "f4256eb0",
   "metadata": {
    "execution": {
     "iopub.execute_input": "2022-02-04T15:14:15.527391Z",
     "iopub.status.busy": "2022-02-04T15:14:15.526682Z",
     "iopub.status.idle": "2022-02-04T15:14:15.564034Z",
     "shell.execute_reply": "2022-02-04T15:14:15.564593Z",
     "shell.execute_reply.started": "2022-02-04T15:12:28.518227Z"
    },
    "papermill": {
     "duration": 0.061776,
     "end_time": "2022-02-04T15:14:15.564775",
     "exception": false,
     "start_time": "2022-02-04T15:14:15.502999",
     "status": "completed"
    },
    "tags": []
   },
   "outputs": [
    {
     "name": "stderr",
     "output_type": "stream",
     "text": [
      "/opt/conda/lib/python3.7/site-packages/ipykernel_launcher.py:3: SettingWithCopyWarning: \n",
      "A value is trying to be set on a copy of a slice from a DataFrame\n",
      "\n",
      "See the caveats in the documentation: https://pandas.pydata.org/pandas-docs/stable/user_guide/indexing.html#returning-a-view-versus-a-copy\n",
      "  This is separate from the ipykernel package so we can avoid doing imports until\n",
      "/opt/conda/lib/python3.7/site-packages/ipykernel_launcher.py:4: SettingWithCopyWarning: \n",
      "A value is trying to be set on a copy of a slice from a DataFrame\n",
      "\n",
      "See the caveats in the documentation: https://pandas.pydata.org/pandas-docs/stable/user_guide/indexing.html#returning-a-view-versus-a-copy\n",
      "  after removing the cwd from sys.path.\n"
     ]
    },
    {
     "data": {
      "text/html": [
       "<div>\n",
       "<style scoped>\n",
       "    .dataframe tbody tr th:only-of-type {\n",
       "        vertical-align: middle;\n",
       "    }\n",
       "\n",
       "    .dataframe tbody tr th {\n",
       "        vertical-align: top;\n",
       "    }\n",
       "\n",
       "    .dataframe thead th {\n",
       "        text-align: right;\n",
       "    }\n",
       "</style>\n",
       "<table border=\"1\" class=\"dataframe\">\n",
       "  <thead>\n",
       "    <tr style=\"text-align: right;\">\n",
       "      <th></th>\n",
       "      <th>PassengerId</th>\n",
       "      <th>Pclass</th>\n",
       "      <th>Sex</th>\n",
       "      <th>Age</th>\n",
       "      <th>Fare</th>\n",
       "    </tr>\n",
       "  </thead>\n",
       "  <tbody>\n",
       "    <tr>\n",
       "      <th>0</th>\n",
       "      <td>892</td>\n",
       "      <td>3</td>\n",
       "      <td>1</td>\n",
       "      <td>34.5</td>\n",
       "      <td>7.8292</td>\n",
       "    </tr>\n",
       "    <tr>\n",
       "      <th>1</th>\n",
       "      <td>893</td>\n",
       "      <td>3</td>\n",
       "      <td>0</td>\n",
       "      <td>47.0</td>\n",
       "      <td>7.0000</td>\n",
       "    </tr>\n",
       "    <tr>\n",
       "      <th>2</th>\n",
       "      <td>894</td>\n",
       "      <td>2</td>\n",
       "      <td>1</td>\n",
       "      <td>62.0</td>\n",
       "      <td>9.6875</td>\n",
       "    </tr>\n",
       "    <tr>\n",
       "      <th>3</th>\n",
       "      <td>895</td>\n",
       "      <td>3</td>\n",
       "      <td>1</td>\n",
       "      <td>27.0</td>\n",
       "      <td>8.6625</td>\n",
       "    </tr>\n",
       "    <tr>\n",
       "      <th>4</th>\n",
       "      <td>896</td>\n",
       "      <td>3</td>\n",
       "      <td>0</td>\n",
       "      <td>22.0</td>\n",
       "      <td>12.2875</td>\n",
       "    </tr>\n",
       "    <tr>\n",
       "      <th>...</th>\n",
       "      <td>...</td>\n",
       "      <td>...</td>\n",
       "      <td>...</td>\n",
       "      <td>...</td>\n",
       "      <td>...</td>\n",
       "    </tr>\n",
       "    <tr>\n",
       "      <th>413</th>\n",
       "      <td>1305</td>\n",
       "      <td>3</td>\n",
       "      <td>1</td>\n",
       "      <td>NaN</td>\n",
       "      <td>8.0500</td>\n",
       "    </tr>\n",
       "    <tr>\n",
       "      <th>414</th>\n",
       "      <td>1306</td>\n",
       "      <td>1</td>\n",
       "      <td>0</td>\n",
       "      <td>39.0</td>\n",
       "      <td>108.9000</td>\n",
       "    </tr>\n",
       "    <tr>\n",
       "      <th>415</th>\n",
       "      <td>1307</td>\n",
       "      <td>3</td>\n",
       "      <td>1</td>\n",
       "      <td>38.5</td>\n",
       "      <td>7.2500</td>\n",
       "    </tr>\n",
       "    <tr>\n",
       "      <th>416</th>\n",
       "      <td>1308</td>\n",
       "      <td>3</td>\n",
       "      <td>1</td>\n",
       "      <td>NaN</td>\n",
       "      <td>8.0500</td>\n",
       "    </tr>\n",
       "    <tr>\n",
       "      <th>417</th>\n",
       "      <td>1309</td>\n",
       "      <td>3</td>\n",
       "      <td>1</td>\n",
       "      <td>NaN</td>\n",
       "      <td>22.3583</td>\n",
       "    </tr>\n",
       "  </tbody>\n",
       "</table>\n",
       "<p>418 rows × 5 columns</p>\n",
       "</div>"
      ],
      "text/plain": [
       "     PassengerId  Pclass Sex   Age      Fare\n",
       "0            892       3   1  34.5    7.8292\n",
       "1            893       3   0  47.0    7.0000\n",
       "2            894       2   1  62.0    9.6875\n",
       "3            895       3   1  27.0    8.6625\n",
       "4            896       3   0  22.0   12.2875\n",
       "..           ...     ...  ..   ...       ...\n",
       "413         1305       3   1   NaN    8.0500\n",
       "414         1306       1   0  39.0  108.9000\n",
       "415         1307       3   1  38.5    7.2500\n",
       "416         1308       3   1   NaN    8.0500\n",
       "417         1309       3   1   NaN   22.3583\n",
       "\n",
       "[418 rows x 5 columns]"
      ]
     },
     "execution_count": 12,
     "metadata": {},
     "output_type": "execute_result"
    }
   ],
   "source": [
    "\n",
    "tes=pd.read_csv('../input/titanic/test.csv')\n",
    "tes=tes.drop(['SibSp','Parch','Cabin','Embarked','Ticket','Name'], axis='columns')\n",
    "tes.Sex[tes.Sex == 'male'] = 1\n",
    "tes.Sex[tes.Sex == 'female'] = 0\n",
    "tes"
   ]
  },
  {
   "cell_type": "code",
   "execution_count": 13,
   "id": "4063bc36",
   "metadata": {
    "execution": {
     "iopub.execute_input": "2022-02-04T15:14:15.615658Z",
     "iopub.status.busy": "2022-02-04T15:14:15.614930Z",
     "iopub.status.idle": "2022-02-04T15:14:15.617757Z",
     "shell.execute_reply": "2022-02-04T15:14:15.618266Z",
     "shell.execute_reply.started": "2022-02-04T15:12:28.555240Z"
    },
    "papermill": {
     "duration": 0.031211,
     "end_time": "2022-02-04T15:14:15.618451",
     "exception": false,
     "start_time": "2022-02-04T15:14:15.587240",
     "status": "completed"
    },
    "tags": []
   },
   "outputs": [
    {
     "data": {
      "text/plain": [
       "30.272590361445783"
      ]
     },
     "execution_count": 13,
     "metadata": {},
     "output_type": "execute_result"
    }
   ],
   "source": [
    "a=np.mean(tes['Age'])\n",
    "a"
   ]
  },
  {
   "cell_type": "code",
   "execution_count": 14,
   "id": "83f87e52",
   "metadata": {
    "execution": {
     "iopub.execute_input": "2022-02-04T15:14:15.667813Z",
     "iopub.status.busy": "2022-02-04T15:14:15.667108Z",
     "iopub.status.idle": "2022-02-04T15:14:15.681805Z",
     "shell.execute_reply": "2022-02-04T15:14:15.682375Z",
     "shell.execute_reply.started": "2022-02-04T15:12:28.563235Z"
    },
    "papermill": {
     "duration": 0.040628,
     "end_time": "2022-02-04T15:14:15.682558",
     "exception": false,
     "start_time": "2022-02-04T15:14:15.641930",
     "status": "completed"
    },
    "tags": []
   },
   "outputs": [
    {
     "data": {
      "text/html": [
       "<div>\n",
       "<style scoped>\n",
       "    .dataframe tbody tr th:only-of-type {\n",
       "        vertical-align: middle;\n",
       "    }\n",
       "\n",
       "    .dataframe tbody tr th {\n",
       "        vertical-align: top;\n",
       "    }\n",
       "\n",
       "    .dataframe thead th {\n",
       "        text-align: right;\n",
       "    }\n",
       "</style>\n",
       "<table border=\"1\" class=\"dataframe\">\n",
       "  <thead>\n",
       "    <tr style=\"text-align: right;\">\n",
       "      <th></th>\n",
       "      <th>PassengerId</th>\n",
       "      <th>Pclass</th>\n",
       "      <th>Sex</th>\n",
       "      <th>Age</th>\n",
       "      <th>Fare</th>\n",
       "    </tr>\n",
       "  </thead>\n",
       "  <tbody>\n",
       "    <tr>\n",
       "      <th>0</th>\n",
       "      <td>892</td>\n",
       "      <td>3</td>\n",
       "      <td>1</td>\n",
       "      <td>34.500000</td>\n",
       "      <td>7.8292</td>\n",
       "    </tr>\n",
       "    <tr>\n",
       "      <th>1</th>\n",
       "      <td>893</td>\n",
       "      <td>3</td>\n",
       "      <td>0</td>\n",
       "      <td>47.000000</td>\n",
       "      <td>7.0000</td>\n",
       "    </tr>\n",
       "    <tr>\n",
       "      <th>2</th>\n",
       "      <td>894</td>\n",
       "      <td>2</td>\n",
       "      <td>1</td>\n",
       "      <td>62.000000</td>\n",
       "      <td>9.6875</td>\n",
       "    </tr>\n",
       "    <tr>\n",
       "      <th>3</th>\n",
       "      <td>895</td>\n",
       "      <td>3</td>\n",
       "      <td>1</td>\n",
       "      <td>27.000000</td>\n",
       "      <td>8.6625</td>\n",
       "    </tr>\n",
       "    <tr>\n",
       "      <th>4</th>\n",
       "      <td>896</td>\n",
       "      <td>3</td>\n",
       "      <td>0</td>\n",
       "      <td>22.000000</td>\n",
       "      <td>12.2875</td>\n",
       "    </tr>\n",
       "    <tr>\n",
       "      <th>...</th>\n",
       "      <td>...</td>\n",
       "      <td>...</td>\n",
       "      <td>...</td>\n",
       "      <td>...</td>\n",
       "      <td>...</td>\n",
       "    </tr>\n",
       "    <tr>\n",
       "      <th>413</th>\n",
       "      <td>1305</td>\n",
       "      <td>3</td>\n",
       "      <td>1</td>\n",
       "      <td>29.699118</td>\n",
       "      <td>8.0500</td>\n",
       "    </tr>\n",
       "    <tr>\n",
       "      <th>414</th>\n",
       "      <td>1306</td>\n",
       "      <td>1</td>\n",
       "      <td>0</td>\n",
       "      <td>39.000000</td>\n",
       "      <td>108.9000</td>\n",
       "    </tr>\n",
       "    <tr>\n",
       "      <th>415</th>\n",
       "      <td>1307</td>\n",
       "      <td>3</td>\n",
       "      <td>1</td>\n",
       "      <td>38.500000</td>\n",
       "      <td>7.2500</td>\n",
       "    </tr>\n",
       "    <tr>\n",
       "      <th>416</th>\n",
       "      <td>1308</td>\n",
       "      <td>3</td>\n",
       "      <td>1</td>\n",
       "      <td>29.699118</td>\n",
       "      <td>8.0500</td>\n",
       "    </tr>\n",
       "    <tr>\n",
       "      <th>417</th>\n",
       "      <td>1309</td>\n",
       "      <td>3</td>\n",
       "      <td>1</td>\n",
       "      <td>29.699118</td>\n",
       "      <td>22.3583</td>\n",
       "    </tr>\n",
       "  </tbody>\n",
       "</table>\n",
       "<p>418 rows × 5 columns</p>\n",
       "</div>"
      ],
      "text/plain": [
       "     PassengerId  Pclass Sex        Age      Fare\n",
       "0            892       3   1  34.500000    7.8292\n",
       "1            893       3   0  47.000000    7.0000\n",
       "2            894       2   1  62.000000    9.6875\n",
       "3            895       3   1  27.000000    8.6625\n",
       "4            896       3   0  22.000000   12.2875\n",
       "..           ...     ...  ..        ...       ...\n",
       "413         1305       3   1  29.699118    8.0500\n",
       "414         1306       1   0  39.000000  108.9000\n",
       "415         1307       3   1  38.500000    7.2500\n",
       "416         1308       3   1  29.699118    8.0500\n",
       "417         1309       3   1  29.699118   22.3583\n",
       "\n",
       "[418 rows x 5 columns]"
      ]
     },
     "execution_count": 14,
     "metadata": {},
     "output_type": "execute_result"
    }
   ],
   "source": [
    "tes.Age=tes['Age'].fillna(m)\n",
    "tes"
   ]
  },
  {
   "cell_type": "code",
   "execution_count": 15,
   "id": "5e7bf0d2",
   "metadata": {
    "execution": {
     "iopub.execute_input": "2022-02-04T15:14:15.733283Z",
     "iopub.status.busy": "2022-02-04T15:14:15.732629Z",
     "iopub.status.idle": "2022-02-04T15:14:15.741235Z",
     "shell.execute_reply": "2022-02-04T15:14:15.741794Z",
     "shell.execute_reply.started": "2022-02-04T15:12:28.589704Z"
    },
    "papermill": {
     "duration": 0.0353,
     "end_time": "2022-02-04T15:14:15.741972",
     "exception": false,
     "start_time": "2022-02-04T15:14:15.706672",
     "status": "completed"
    },
    "tags": []
   },
   "outputs": [],
   "source": [
    "tes=tes.dropna()\n",
    "tes.isnull().sum()\n",
    "tes\n",
    "newf=tes.drop(['Pclass','Age','Fare','Sex'],axis='columns')"
   ]
  },
  {
   "cell_type": "code",
   "execution_count": 16,
   "id": "e0562edd",
   "metadata": {
    "execution": {
     "iopub.execute_input": "2022-02-04T15:14:15.792549Z",
     "iopub.status.busy": "2022-02-04T15:14:15.791834Z",
     "iopub.status.idle": "2022-02-04T15:14:17.158266Z",
     "shell.execute_reply": "2022-02-04T15:14:17.158751Z",
     "shell.execute_reply.started": "2022-02-04T15:12:28.602040Z"
    },
    "papermill": {
     "duration": 1.392676,
     "end_time": "2022-02-04T15:14:17.158936",
     "exception": false,
     "start_time": "2022-02-04T15:14:15.766260",
     "status": "completed"
    },
    "tags": []
   },
   "outputs": [],
   "source": [
    "from sklearn import linear_model \n",
    "from sklearn.model_selection import train_test_split \n",
    "reg=linear_model.LogisticRegression()\n",
    "xtest,xtrain,ytest,ytrain=train_test_split(data,suv,train_size=1)"
   ]
  },
  {
   "cell_type": "code",
   "execution_count": 17,
   "id": "ac5ab446",
   "metadata": {
    "execution": {
     "iopub.execute_input": "2022-02-04T15:14:17.210687Z",
     "iopub.status.busy": "2022-02-04T15:14:17.209988Z",
     "iopub.status.idle": "2022-02-04T15:14:17.248555Z",
     "shell.execute_reply": "2022-02-04T15:14:17.249066Z",
     "shell.execute_reply.started": "2022-02-04T15:12:28.613201Z"
    },
    "papermill": {
     "duration": 0.065313,
     "end_time": "2022-02-04T15:14:17.249266",
     "exception": false,
     "start_time": "2022-02-04T15:14:17.183953",
     "status": "completed"
    },
    "tags": []
   },
   "outputs": [
    {
     "data": {
      "text/plain": [
       "LogisticRegression()"
      ]
     },
     "execution_count": 17,
     "metadata": {},
     "output_type": "execute_result"
    }
   ],
   "source": [
    "reg.fit(xtrain,ytrain)"
   ]
  },
  {
   "cell_type": "code",
   "execution_count": 18,
   "id": "8285bef3",
   "metadata": {
    "execution": {
     "iopub.execute_input": "2022-02-04T15:14:17.299562Z",
     "iopub.status.busy": "2022-02-04T15:14:17.298858Z",
     "iopub.status.idle": "2022-02-04T15:14:17.302063Z",
     "shell.execute_reply": "2022-02-04T15:14:17.302596Z",
     "shell.execute_reply.started": "2022-02-04T15:12:28.661139Z"
    },
    "papermill": {
     "duration": 0.029574,
     "end_time": "2022-02-04T15:14:17.302772",
     "exception": false,
     "start_time": "2022-02-04T15:14:17.273198",
     "status": "completed"
    },
    "tags": []
   },
   "outputs": [],
   "source": [
    "xtest=tes"
   ]
  },
  {
   "cell_type": "code",
   "execution_count": 19,
   "id": "edd6c839",
   "metadata": {
    "execution": {
     "iopub.execute_input": "2022-02-04T15:14:17.353163Z",
     "iopub.status.busy": "2022-02-04T15:14:17.352522Z",
     "iopub.status.idle": "2022-02-04T15:14:17.357977Z",
     "shell.execute_reply": "2022-02-04T15:14:17.358559Z",
     "shell.execute_reply.started": "2022-02-04T15:12:28.668182Z"
    },
    "papermill": {
     "duration": 0.032589,
     "end_time": "2022-02-04T15:14:17.358738",
     "exception": false,
     "start_time": "2022-02-04T15:14:17.326149",
     "status": "completed"
    },
    "tags": []
   },
   "outputs": [],
   "source": [
    "sp=reg.predict(xtest)"
   ]
  },
  {
   "cell_type": "code",
   "execution_count": 20,
   "id": "1e799e12",
   "metadata": {
    "execution": {
     "iopub.execute_input": "2022-02-04T15:14:17.421159Z",
     "iopub.status.busy": "2022-02-04T15:14:17.420430Z",
     "iopub.status.idle": "2022-02-04T15:14:17.424483Z",
     "shell.execute_reply": "2022-02-04T15:14:17.425015Z",
     "shell.execute_reply.started": "2022-02-04T15:12:28.682562Z"
    },
    "papermill": {
     "duration": 0.041342,
     "end_time": "2022-02-04T15:14:17.425211",
     "exception": false,
     "start_time": "2022-02-04T15:14:17.383869",
     "status": "completed"
    },
    "tags": []
   },
   "outputs": [
    {
     "data": {
      "text/html": [
       "<div>\n",
       "<style scoped>\n",
       "    .dataframe tbody tr th:only-of-type {\n",
       "        vertical-align: middle;\n",
       "    }\n",
       "\n",
       "    .dataframe tbody tr th {\n",
       "        vertical-align: top;\n",
       "    }\n",
       "\n",
       "    .dataframe thead th {\n",
       "        text-align: right;\n",
       "    }\n",
       "</style>\n",
       "<table border=\"1\" class=\"dataframe\">\n",
       "  <thead>\n",
       "    <tr style=\"text-align: right;\">\n",
       "      <th></th>\n",
       "      <th>PassengerId</th>\n",
       "      <th>Survived</th>\n",
       "    </tr>\n",
       "  </thead>\n",
       "  <tbody>\n",
       "    <tr>\n",
       "      <th>0</th>\n",
       "      <td>892</td>\n",
       "      <td>0</td>\n",
       "    </tr>\n",
       "    <tr>\n",
       "      <th>1</th>\n",
       "      <td>893</td>\n",
       "      <td>0</td>\n",
       "    </tr>\n",
       "    <tr>\n",
       "      <th>2</th>\n",
       "      <td>894</td>\n",
       "      <td>0</td>\n",
       "    </tr>\n",
       "    <tr>\n",
       "      <th>3</th>\n",
       "      <td>895</td>\n",
       "      <td>0</td>\n",
       "    </tr>\n",
       "    <tr>\n",
       "      <th>4</th>\n",
       "      <td>896</td>\n",
       "      <td>1</td>\n",
       "    </tr>\n",
       "    <tr>\n",
       "      <th>...</th>\n",
       "      <td>...</td>\n",
       "      <td>...</td>\n",
       "    </tr>\n",
       "    <tr>\n",
       "      <th>413</th>\n",
       "      <td>1305</td>\n",
       "      <td>0</td>\n",
       "    </tr>\n",
       "    <tr>\n",
       "      <th>414</th>\n",
       "      <td>1306</td>\n",
       "      <td>1</td>\n",
       "    </tr>\n",
       "    <tr>\n",
       "      <th>415</th>\n",
       "      <td>1307</td>\n",
       "      <td>0</td>\n",
       "    </tr>\n",
       "    <tr>\n",
       "      <th>416</th>\n",
       "      <td>1308</td>\n",
       "      <td>0</td>\n",
       "    </tr>\n",
       "    <tr>\n",
       "      <th>417</th>\n",
       "      <td>1309</td>\n",
       "      <td>0</td>\n",
       "    </tr>\n",
       "  </tbody>\n",
       "</table>\n",
       "<p>417 rows × 2 columns</p>\n",
       "</div>"
      ],
      "text/plain": [
       "     PassengerId  Survived\n",
       "0            892         0\n",
       "1            893         0\n",
       "2            894         0\n",
       "3            895         0\n",
       "4            896         1\n",
       "..           ...       ...\n",
       "413         1305         0\n",
       "414         1306         1\n",
       "415         1307         0\n",
       "416         1308         0\n",
       "417         1309         0\n",
       "\n",
       "[417 rows x 2 columns]"
      ]
     },
     "execution_count": 20,
     "metadata": {},
     "output_type": "execute_result"
    }
   ],
   "source": [
    "newf['Survived']=sp\n",
    "newf"
   ]
  },
  {
   "cell_type": "code",
   "execution_count": 21,
   "id": "626b9ee4",
   "metadata": {
    "execution": {
     "iopub.execute_input": "2022-02-04T15:14:17.478596Z",
     "iopub.status.busy": "2022-02-04T15:14:17.476523Z",
     "iopub.status.idle": "2022-02-04T15:14:17.484337Z",
     "shell.execute_reply": "2022-02-04T15:14:17.484929Z",
     "shell.execute_reply.started": "2022-02-04T15:13:40.768134Z"
    },
    "papermill": {
     "duration": 0.035602,
     "end_time": "2022-02-04T15:14:17.485113",
     "exception": false,
     "start_time": "2022-02-04T15:14:17.449511",
     "status": "completed"
    },
    "tags": []
   },
   "outputs": [],
   "source": [
    "newf.to_csv('solution.csv',index=False)\n"
   ]
  }
 ],
 "metadata": {
  "kernelspec": {
   "display_name": "Python 3",
   "language": "python",
   "name": "python3"
  },
  "language_info": {
   "codemirror_mode": {
    "name": "ipython",
    "version": 3
   },
   "file_extension": ".py",
   "mimetype": "text/x-python",
   "name": "python",
   "nbconvert_exporter": "python",
   "pygments_lexer": "ipython3",
   "version": "3.7.12"
  },
  "papermill": {
   "default_parameters": {},
   "duration": 15.136471,
   "end_time": "2022-02-04T15:14:18.420470",
   "environment_variables": {},
   "exception": null,
   "input_path": "__notebook__.ipynb",
   "output_path": "__notebook__.ipynb",
   "parameters": {},
   "start_time": "2022-02-04T15:14:03.283999",
   "version": "2.3.3"
  }
 },
 "nbformat": 4,
 "nbformat_minor": 5
}
